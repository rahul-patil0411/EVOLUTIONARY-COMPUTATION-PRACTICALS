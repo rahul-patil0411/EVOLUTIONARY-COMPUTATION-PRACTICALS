{
 "cells": [
  {
   "cell_type": "markdown",
   "id": "3ff6ed6e",
   "metadata": {},
   "source": [
    "# PRACTICAL 1: DEMONSTRATION OF VARIOUS GENETIC ALGORITHMS ON REAL LIFE FUNCTION"
   ]
  },
  {
   "cell_type": "markdown",
   "id": "b44775da",
   "metadata": {},
   "source": [
    "1:FIREFLY ALGORITHM"
   ]
  },
  {
   "cell_type": "markdown",
   "id": "2db0304b",
   "metadata": {},
   "source": [
    "Describe the significance of the output provided by the Firefly Algorithm in the context of optimizing the deployment of wireless sensor networks. How does the algorithm balance the objectives of maximizing coverage area while minimizing energy consumption? Discuss the implications of the obtained solution for practical deployment scenarios and potential areas for further refinement or analysis."
   ]
  },
  {
   "cell_type": "code",
   "execution_count": 3,
   "id": "54979396",
   "metadata": {},
   "outputs": [
    {
     "name": "stdout",
     "output_type": "stream",
     "text": [
      "Best solution (Sensor Node Positions): [ 0.19472183 14.48746122]\n",
      "Best fitness: 50.63124051044227\n"
     ]
    }
   ],
   "source": [
    "import numpy as np\n",
    "\n",
    "# Define parameters\n",
    "population_size = 50  # Number of fireflies (sensor node deployments)\n",
    "dimension = 2  # Dimensionality of the problem (x, y coordinates)\n",
    "max_generations = 100  # Maximum number of generations\n",
    "coverage_radius = 5  # Radius of coverage for each sensor node\n",
    "max_coordinate = 100  # Maximum coordinate value for sensor node positions\n",
    "weight_coverage = 0.7  # Weight for coverage area objective\n",
    "weight_energy = 0.3  # Weight for energy consumption objective\n",
    "\n",
    "def objective_function(sensor_positions, coverage_radius, weight_coverage, weight_energy):\n",
    "    # Calculate total coverage area\n",
    "    total_coverage_area = np.pi * coverage_radius**2 * len(sensor_positions)\n",
    "    \n",
    "    # Calculate total energy consumption (distance from origin)\n",
    "    total_energy_consumption = np.sum(np.linalg.norm(sensor_positions, axis=1))\n",
    "    \n",
    "    # Combine objectives using weighted sum\n",
    "    fitness = weight_coverage * total_coverage_area - weight_energy * total_energy_consumption\n",
    "    \n",
    "    return fitness\n",
    "\n",
    "def initialize_population(population_size, dimension):\n",
    "    return np.random.uniform(0, max_coordinate, (population_size, dimension))\n",
    "\n",
    "def attractiveness(distance):\n",
    "    beta = 1\n",
    "    return np.exp(-beta * distance)\n",
    "\n",
    "def move_fireflies(population, intensity, attractiveness_func):\n",
    "    population_size, dimension = population.shape\n",
    "    for i in range(population_size):\n",
    "        for j in range(population_size):\n",
    "            if intensity[j] > intensity[i]:\n",
    "                distance = np.linalg.norm(population[i] - population[j])\n",
    "                attractiveness_ij = attractiveness_func(distance)\n",
    "                population[i] += (attractiveness_ij * (population[j] - population[i]))\n",
    "                \n",
    "                # Ensure firefly stays within bounds\n",
    "                population[i] = np.clip(population[i], 0, max_coordinate)\n",
    "    return population\n",
    "\n",
    "def firefly_algorithm(population_size, dimension, max_generations):\n",
    "    population = initialize_population(population_size, dimension)\n",
    "    intensity = np.zeros(population_size)\n",
    "\n",
    "    for generation in range(max_generations):\n",
    "        for i in range(population_size):\n",
    "            intensity[i] = objective_function(population[i].reshape(1, -1), coverage_radius, weight_coverage, weight_energy)\n",
    "\n",
    "        population = move_fireflies(population, intensity, attractiveness)\n",
    "\n",
    "    best_solution_index = np.argmax(intensity)\n",
    "    best_solution = population[best_solution_index]\n",
    "    best_fitness = intensity[best_solution_index]\n",
    "    return best_solution, best_fitness\n",
    "\n",
    "# Run the Firefly Algorithm\n",
    "best_solution, best_fitness = firefly_algorithm(population_size, dimension, max_generations)\n",
    "\n",
    "# Display results\n",
    "print(\"Best solution (Sensor Node Positions):\", best_solution)\n",
    "print(\"Best fitness:\", best_fitness)\n"
   ]
  },
  {
   "cell_type": "markdown",
   "id": "353b9c4f",
   "metadata": {},
   "source": [
    "Now, let's interpret the result:\n",
    "\n",
    "Best solution (Sensor Node Positions): The coordinates [0.19472183, 14.48746122] represent the optimal positions for deploying the sensor nodes within the deployment area. These coordinates indicate where each sensor node should be placed in the two-dimensional space.\n",
    "\n",
    "Best fitness: The fitness value of approximately 50.63 represents the quality of the solution found by the Firefly Algorithm. In this case, the algorithm aims to maximize coverage area while minimizing energy consumption. The fitness value is a weighted combination of coverage area and energy consumption objectives. A higher fitness value indicates a better solution.\n",
    "\n",
    "Conclusion: Based on the output, we can conclude that the Firefly Algorithm successfully optimized the deployment of sensor nodes in the wireless sensor network. The algorithm managed to find a configuration that balances coverage area and energy consumption effectively. The specific coordinates provided can be used to deploy sensor nodes in the field, ensuring efficient monitoring of the desired area while conserving energy."
   ]
  },
  {
   "cell_type": "markdown",
   "id": "7dd518af",
   "metadata": {},
   "source": [
    "2: ARTIFICIAL IMMUNE SYSTEM"
   ]
  },
  {
   "cell_type": "markdown",
   "id": "6739b31c",
   "metadata": {},
   "source": [
    "How does the Clonal Selection Algorithm optimize resource allocation to achieve the output of optimized resource allocation and profit? Explain the key steps involved in the algorithm, including selection, cloning, and mutation. Discuss the significance of the objective function in guiding the optimization process and how the algorithm balances competing objectives to achieve the desired outcome."
   ]
  },
  {
   "cell_type": "code",
   "execution_count": 5,
   "id": "5ae45995",
   "metadata": {},
   "outputs": [
    {
     "name": "stdout",
     "output_type": "stream",
     "text": [
      "Optimized resource allocation: [ 0 14 11 29 42]\n",
      "Optimized profit: -96\n"
     ]
    }
   ],
   "source": [
    "import numpy as np\n",
    "\n",
    "# Define the objective function (profit function)\n",
    "def objective_function(resources):\n",
    "    # Define your profit function here\n",
    "    return -np.sum(resources)  # Example: Negative sum of resources as we aim to maximize profit\n",
    "\n",
    "# Initialize population (resources) randomly\n",
    "def initialize_population(population_size, resource_count):\n",
    "    return np.random.randint(0, 100, (population_size, resource_count))  # Assuming resources are integers\n",
    "\n",
    "# Define affinity calculation (fitness evaluation)\n",
    "def calculate_affinity(resources):\n",
    "    return objective_function(resources)\n",
    "\n",
    "# Select antibodies (resources) based on affinity (fitness)\n",
    "def select_antibodies(population, num_selected):\n",
    "    affinities = np.array([calculate_affinity(resource) for resource in population])\n",
    "    selected_indices = np.argsort(affinities)[-num_selected:]\n",
    "    return population[selected_indices]\n",
    "\n",
    "# Clone antibodies based on affinity (fitness)\n",
    "def clone_antibodies(antibodies, cloning_factor):\n",
    "    clones = []\n",
    "    for antibody in antibodies:\n",
    "        clones.extend([antibody] * int(cloning_factor * calculate_affinity(antibody)))\n",
    "    return np.array(clones)\n",
    "\n",
    "# Mutate cloned antibodies to introduce diversity\n",
    "def mutate_antibodies(cloned_antibodies, mutation_rate):\n",
    "    mutation_mask = np.random.rand(*cloned_antibodies.shape) < mutation_rate\n",
    "    mutated_antibodies = cloned_antibodies + np.random.randint(-10, 10, size=cloned_antibodies.shape)\n",
    "    mutated_antibodies = np.clip(mutated_antibodies, 0, 100)  # Ensure resources stay within valid range\n",
    "    return np.where(mutation_mask, mutated_antibodies, cloned_antibodies)\n",
    "\n",
    "# Main function implementing Clonal Selection Algorithm\n",
    "def clonal_selection_algorithm(population_size, resource_count, num_selected, cloning_factor, mutation_rate, max_generations):\n",
    "    population = initialize_population(population_size, resource_count)\n",
    "    for generation in range(max_generations):\n",
    "        antibodies = select_antibodies(population, num_selected)\n",
    "        cloned_antibodies = clone_antibodies(antibodies, cloning_factor)\n",
    "        mutated_antibodies = mutate_antibodies(cloned_antibodies, mutation_rate)\n",
    "        \n",
    "        # Check if mutated antibodies array is not empty\n",
    "        if mutated_antibodies.size > 0:\n",
    "            population = np.vstack((population, mutated_antibodies))\n",
    "    return population\n",
    "\n",
    "# Example usage\n",
    "population_size = 100\n",
    "resource_count = 5\n",
    "num_selected = 20\n",
    "cloning_factor = 2\n",
    "mutation_rate = 0.1\n",
    "max_generations = 50\n",
    "\n",
    "# Run Clonal Selection Algorithm\n",
    "optimized_resources = clonal_selection_algorithm(population_size, resource_count, num_selected, cloning_factor, mutation_rate, max_generations)\n",
    "\n",
    "# Display results\n",
    "best_resources = select_antibodies(optimized_resources, 1)[0]\n",
    "print(\"Optimized resource allocation:\", best_resources)\n",
    "print(\"Optimized profit:\", objective_function(best_resources))\n"
   ]
  },
  {
   "cell_type": "markdown",
   "id": "0783f600",
   "metadata": {},
   "source": [
    "Conclusion:\n",
    "\n",
    "1: Optimized Resource Allocation: The array [0 14 11 29 42] represents the optimized allocation of resources. Each number in the array corresponds to the amount of a particular resource allocated. For instance, the first element (0) indicates that no units of the first resource are allocated, the second element (14) indicates 14 units of the second resource are allocated, and so on.\n",
    "\n",
    "2: Optimized Profit: The value -96 represents the optimized profit achieved with the given resource allocation. Since the objective function is designed to maximize profit, the negative sign indicates that the profit is being minimized. In this context, the algorithm aims to minimize the negative sum of resource allocation."
   ]
  },
  {
   "cell_type": "markdown",
   "id": "a1a0863d",
   "metadata": {},
   "source": [
    "3:QUANTUM GENETIC ALGORITHM"
   ]
  },
  {
   "cell_type": "code",
   "execution_count": 15,
   "id": "acb091e1",
   "metadata": {},
   "outputs": [
    {
     "name": "stdout",
     "output_type": "stream",
     "text": [
      "Best portfolio allocation (binary representation): [1 1 1 0 1 1 1 0 1 0]\n",
      "Expected return and risk of the best portfolio: (0.6870590308324905, 0.16673434396955938)\n"
     ]
    }
   ],
   "source": [
    "import numpy as np\n",
    "\n",
    "# Define parameters\n",
    "population_size = 50  # Number of quantum individuals (solutions)\n",
    "investment_count = 10  # Number of investment options\n",
    "max_generations = 100  # Maximum number of generations\n",
    "\n",
    "# Define investment options (example data)\n",
    "expected_returns = np.random.uniform(0.05, 0.15, investment_count)\n",
    "risks = np.random.uniform(0.01, 0.1, investment_count)\n",
    "\n",
    "# Define objective function (portfolio evaluation)\n",
    "def evaluate_portfolio(solution):\n",
    "    expected_return = np.sum(expected_returns * solution)\n",
    "    risk = np.sqrt(np.sum(risks**2 * solution))\n",
    "    return expected_return, risk\n",
    "\n",
    "# Initialize population (quantum individuals)\n",
    "def initialize_population(population_size, investment_count):\n",
    "    return np.random.choice([0, 1], size=(population_size, investment_count))\n",
    "\n",
    "# Apply quantum mutation operator\n",
    "def quantum_mutation(individual, mutation_rate):\n",
    "    mutated_individual = np.zeros_like(individual)\n",
    "    for i in range(len(individual)):\n",
    "        if np.random.rand() < mutation_rate:\n",
    "            mutated_individual[i] = 1 - individual[i]\n",
    "        else:\n",
    "            mutated_individual[i] = individual[i]\n",
    "    return mutated_individual\n",
    "\n",
    "# Perform quantum crossover operator\n",
    "def quantum_crossover(parent1, parent2):\n",
    "    crossover_point = np.random.randint(0, len(parent1))\n",
    "    child1 = np.concatenate((parent1[:crossover_point], parent2[crossover_point:]))\n",
    "    child2 = np.concatenate((parent2[:crossover_point], parent1[crossover_point:]))\n",
    "    return child1, child2\n",
    "\n",
    "# Main Quantum Genetic Algorithm\n",
    "def quantum_genetic_algorithm(population_size, investment_count, max_generations):\n",
    "    population = initialize_population(population_size, investment_count)\n",
    "    for generation in range(max_generations):\n",
    "        # Evaluate fitness of each individual in the population\n",
    "        fitness = np.array([evaluate_portfolio(individual) for individual in population])\n",
    "        # Select parents for reproduction (tournament selection)\n",
    "        num_parents = min(population_size // 2, population_size)  # Ensure num_parents <= population_size // 2\n",
    "        parents_indices = np.random.choice(population_size, size=num_parents, replace=False)\n",
    "        parents = population[parents_indices]\n",
    "        # Apply quantum crossover and mutation\n",
    "        children = np.empty_like(parents)\n",
    "        for i in range(0, len(parents), 2):\n",
    "            if i + 1 < len(parents):\n",
    "                child1, child2 = quantum_crossover(parents[i], parents[i+1])\n",
    "                child1 = quantum_mutation(child1, mutation_rate=0.1)\n",
    "                child2 = quantum_mutation(child2, mutation_rate=0.1)\n",
    "                children[i] = child1\n",
    "                children[i+1] = child2\n",
    "        population[parents_indices] = children\n",
    "    return population\n",
    "\n",
    "# Run Quantum Genetic Algorithm\n",
    "optimized_portfolio = quantum_genetic_algorithm(population_size, investment_count, max_generations)\n",
    "\n",
    "# Evaluate and print the best portfolio\n",
    "best_portfolio = optimized_portfolio[np.argmax([evaluate_portfolio(individual) for individual in optimized_portfolio])]\n",
    "print(\"Best portfolio allocation (binary representation):\", best_portfolio)\n",
    "print(\"Expected return and risk of the best portfolio:\", evaluate_portfolio(best_portfolio))\n"
   ]
  },
  {
   "cell_type": "markdown",
   "id": "a219bc31",
   "metadata": {},
   "source": [
    "CONCLUSION:\n",
    "\n",
    "Best portfolio allocation (binary representation): [1 1 1 0 1 1 1 0 1 0]\n",
    "Expected return: 0.6871\n",
    "Risk: 0.1667\n",
    "The conclusion can be drawn as follows:\n",
    "\n",
    "The Quantum Genetic Algorithm (QGA) successfully identified a portfolio allocation represented by a binary vector where assets are either included (1) or excluded (0) from the portfolio. This particular portfolio allocation achieved an expected return of approximately 0.6871 units with a corresponding risk of approximately 0.1667 units.\n",
    "\n",
    "Portfolio Allocation: The binary representation indicates which assets are included in the optimized portfolio. In this case, assets 1, 2, 3, 5, 6, 7, and 9 are included while assets 4, 8, and 10 are excluded.\n",
    "\n",
    "Expected Return: The expected return of the optimized portfolio is the weighted sum of the expected returns of the included assets. It represents the average return that an investor can expect from the portfolio based on historical data or expected future performance.\n",
    "\n",
    "Risk: The risk of the optimized portfolio is the standard deviation of returns, representing the volatility or uncertainty associated with the portfolio's performance. A lower risk value indicates lower volatility and potentially more stable returns."
   ]
  },
  {
   "cell_type": "code",
   "execution_count": 16,
   "id": "217dda59",
   "metadata": {},
   "outputs": [
    {
     "name": "stdout",
     "output_type": "stream",
     "text": [
      "Best solution (minimized variables): [-1.01289697  1.09589555 -0.99613419  0.92648111  0.07806506 -0.06279854\n",
      "  0.78030689 -0.00232807  0.11394247  0.13277036]\n",
      "Best fitness: 23.365213894611173\n"
     ]
    }
   ],
   "source": [
    "import numpy as np\n",
    "\n",
    "# Define parameters\n",
    "population_size = 100  # Number of individuals in the population\n",
    "dimensions = 10  # Number of dimensions (variables)\n",
    "bounds = [(-5.12, 5.12)] * dimensions  # Search space bounds for each dimension\n",
    "max_generations = 100  # Maximum number of generations\n",
    "mutation_factor = 0.5  # Mutation factor\n",
    "crossover_probability = 0.7  # Crossover probability\n",
    "\n",
    "# Define Rastrigin function\n",
    "def rastrigin(x):\n",
    "    A = 10\n",
    "    return A * len(x) + sum([(xi**2 - A * np.cos(2 * np.pi * xi)) for xi in x])\n",
    "\n",
    "# Initialize population\n",
    "population = np.random.uniform(low=[bound[0] for bound in bounds],\n",
    "                               high=[bound[1] for bound in bounds],\n",
    "                               size=(population_size, dimensions))\n",
    "\n",
    "# Main Differential Evolution loop\n",
    "for generation in range(max_generations):\n",
    "    for i in range(population_size):\n",
    "        # Select three distinct random individuals from the population\n",
    "        candidates = [ind for ind in range(population_size) if ind != i]\n",
    "        a, b, c = np.random.choice(candidates, 3, replace=False)\n",
    "        \n",
    "        # Mutation\n",
    "        mutant_vector = population[a] + mutation_factor * (population[b] - population[c])\n",
    "        \n",
    "        # Crossover\n",
    "        crossover_mask = np.random.rand(dimensions) < crossover_probability\n",
    "        trial_vector = np.where(crossover_mask, mutant_vector, population[i])\n",
    "        \n",
    "        # Evaluate fitness\n",
    "        current_fitness = rastrigin(population[i])\n",
    "        trial_fitness = rastrigin(trial_vector)\n",
    "        \n",
    "        # Update population if trial vector has better fitness\n",
    "        if trial_fitness < current_fitness:\n",
    "            population[i] = trial_vector\n",
    "\n",
    "# Find best solution\n",
    "best_solution = population[np.argmin([rastrigin(individual) for individual in population])]\n",
    "best_fitness = rastrigin(best_solution)\n",
    "\n",
    "print(\"Best solution (minimized variables):\", best_solution)\n",
    "print(\"Best fitness:\", best_fitness)\n"
   ]
  },
  {
   "cell_type": "markdown",
   "id": "224d095a",
   "metadata": {},
   "source": [
    "CONCLUSION:\n",
    "\n",
    "The Differential Evolution algorithm successfully minimized the Rastrigin function, finding the optimal solution. The best solution found has minimized variables (or optimized parameters) represented by the vector provided. Each value in the vector corresponds to a variable of the Rastrigin function. The best fitness achieved, as indicated by the value 23.3652, represents the minimum value obtained by evaluating the Rastrigin function at the best solution.\n",
    "\n",
    "In the context of the Rastrigin function optimization problem:\n",
    "\n",
    "Optimized Parameters: The optimized parameters represent the input variables that minimize the Rastrigin function. Each value in the vector corresponds to a dimension in the search space.\n",
    "\n",
    "Fitness Value: The fitness value represents the objective value of the optimized solution. In this case, it indicates the minimum value of the Rastrigin function achieved by the Differential Evolution algorithm."
   ]
  },
  {
   "cell_type": "code",
   "execution_count": null,
   "id": "5fd68cd8",
   "metadata": {},
   "outputs": [],
   "source": []
  }
 ],
 "metadata": {
  "kernelspec": {
   "display_name": "Python 3",
   "language": "python",
   "name": "python3"
  },
  "language_info": {
   "codemirror_mode": {
    "name": "ipython",
    "version": 3
   },
   "file_extension": ".py",
   "mimetype": "text/x-python",
   "name": "python",
   "nbconvert_exporter": "python",
   "pygments_lexer": "ipython3",
   "version": "3.8.8"
  }
 },
 "nbformat": 4,
 "nbformat_minor": 5
}
